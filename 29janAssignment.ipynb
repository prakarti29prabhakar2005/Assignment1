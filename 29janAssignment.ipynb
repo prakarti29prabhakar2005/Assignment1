{
 "cells": [
  {
   "cell_type": "code",
   "execution_count": null,
   "id": "0102952a-bdbc-4d5b-9297-fdd119c6acd2",
   "metadata": {},
   "outputs": [],
   "source": [
    "Answer 1:Guido Van Rossum developed Python programming language in 1991.  "
   ]
  },
  {
   "cell_type": "code",
   "execution_count": null,
   "id": "1d68ccd8-fb22-4565-8662-0ec770667b13",
   "metadata": {},
   "outputs": [],
   "source": [
    "Answer 2:Object oriented programming and structured programming are supported by Python."
   ]
  },
  {
   "cell_type": "code",
   "execution_count": null,
   "id": "f2d0a61c-3ece-4871-83e9-8c72fc7bc5de",
   "metadata": {},
   "outputs": [],
   "source": [
    "Answer 3:Yes Python is case sensitive while dealing with identifiers."
   ]
  },
  {
   "cell_type": "code",
   "execution_count": null,
   "id": "6164f483-f04a-4daf-9495-85a09c62fa76",
   "metadata": {},
   "outputs": [],
   "source": [
    "Answer 4:correct extensions for Python:- .py , .pyi"
   ]
  },
  {
   "cell_type": "code",
   "execution_count": null,
   "id": "b3549af9-0c76-4bcc-a2c3-b33a7a8187b5",
   "metadata": {},
   "outputs": [],
   "source": [
    "Answer 5:Python is both compiled as well as interpreted language."
   ]
  },
  {
   "cell_type": "code",
   "execution_count": null,
   "id": "35378005-634c-4b55-afbf-a676c643f122",
   "metadata": {},
   "outputs": [],
   "source": [
    "Answer 6:a module, a function body, and a class definition"
   ]
  },
  {
   "cell_type": "code",
   "execution_count": null,
   "id": "c1b8301c-312b-43b4-bbc3-0e12a506cba7",
   "metadata": {},
   "outputs": [],
   "source": [
    "Answer 7: '#' is used to give single line comment."
   ]
  },
  {
   "cell_type": "code",
   "execution_count": null,
   "id": "246be6c7-1b41-459a-88e1-052ba342ebe3",
   "metadata": {},
   "outputs": [],
   "source": [
    "Answer 8:The function sys.version can help us to find the version of python that we are currently working on."
   ]
  },
  {
   "cell_type": "code",
   "execution_count": null,
   "id": "67de026f-7659-4b6e-804e-912d97eb3b7b",
   "metadata": {},
   "outputs": [],
   "source": [
    "Answer 9:Python supports the creation of anonymous functions at runtime, using a construct called lambda."
   ]
  },
  {
   "cell_type": "code",
   "execution_count": null,
   "id": "4e569d49-ff26-40eb-b192-b057c39c85ab",
   "metadata": {},
   "outputs": [],
   "source": [
    "Answer 10:pip stands for Preferred Installer Program."
   ]
  },
  {
   "cell_type": "code",
   "execution_count": null,
   "id": "65d352a4-f398-48a5-ab0d-0359564974db",
   "metadata": {},
   "outputs": [],
   "source": [
    "Answer 11: dict(),len(),type() "
   ]
  },
  {
   "cell_type": "code",
   "execution_count": null,
   "id": "e6443f6f-495b-4524-93f5-21e985d1dc9c",
   "metadata": {},
   "outputs": [],
   "source": [
    "Answer 12:The maximum possible length of an identifier in Python is 79 characters."
   ]
  },
  {
   "cell_type": "code",
   "execution_count": null,
   "id": "9f5cdcd9-35e1-44d1-86b6-07b44d37af9f",
   "metadata": {},
   "outputs": [],
   "source": [
    "Answer 13:->High level language\n",
    "          ->Open source\n",
    "          ->User friendly data structures\n",
    "          ->Interpreted language\n",
    "          ->Object Oriented and Procedural Programming language\n",
    "          ->Portable across Operating systems"
   ]
  },
  {
   "cell_type": "code",
   "execution_count": null,
   "id": "e79ac997-f37f-45e4-bd00-05b971add93b",
   "metadata": {},
   "outputs": [],
   "source": [
    "Answer 14:Memory management in Python involves a private heap containing all Python objects and data structures. The management of this private heap is ensured internally by the Python memory manager."
   ]
  },
  {
   "cell_type": "code",
   "execution_count": null,
   "id": "9805e333-1426-4c51-a118-3d049880991f",
   "metadata": {},
   "outputs": [],
   "source": [
    "Answer 15:Python can be downloaded from www.python.org , which is the official Python website.\n",
    "          Steps to add path :\n",
    "        ->right clicking \"This PC\" and going to \"Properties\"\n",
    "        ->clicking on the \"Advanced system settings\" in the menu on the left\n",
    "        ->clicking on the \"Environment Variables\" button on the bottom right\n",
    "        ->In the \"System variables\" section, selecting the\"Path\" variable and clicking on \"Edit\". The next screen will show all the directories that are currently a part of the \"PATH\" variable\n",
    "        ->Clicking on \"New\" and ent"
   ]
  },
  {
   "cell_type": "code",
   "execution_count": null,
   "id": "c27d6253-5130-484a-a048-98ddb6f50511",
   "metadata": {},
   "outputs": [],
   "source": []
  },
  {
   "cell_type": "code",
   "execution_count": null,
   "id": "e63490eb-9282-4417-879c-b84ac094f588",
   "metadata": {},
   "outputs": [],
   "source": []
  }
 ],
 "metadata": {
  "kernelspec": {
   "display_name": "Python 3 (ipykernel)",
   "language": "python",
   "name": "python3"
  },
  "language_info": {
   "codemirror_mode": {
    "name": "ipython",
    "version": 3
   },
   "file_extension": ".py",
   "mimetype": "text/x-python",
   "name": "python",
   "nbconvert_exporter": "python",
   "pygments_lexer": "ipython3",
   "version": "3.10.8"
  }
 },
 "nbformat": 4,
 "nbformat_minor": 5
}
